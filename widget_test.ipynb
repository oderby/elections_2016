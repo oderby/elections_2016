{
 "cells": [
  {
   "cell_type": "code",
   "execution_count": 3,
   "metadata": {
    "collapsed": false
   },
   "outputs": [],
   "source": [
    "from IPython.display import display\n",
    "import ipywidgets as ipw\n",
    "w = ipw.IntSlider()\n",
    "v = ipw.IntText()\n",
    "display(w,v)\n",
    "ipw.jslink((w, 'value'), (v, 'value'))"
   ]
  }
 ],
 "metadata": {
  "kernelspec": {
   "display_name": "Python 3",
   "language": "python",
   "name": "python3"
  },
  "language_info": {
   "codemirror_mode": {
    "name": "ipython",
    "version": 3
   },
   "file_extension": ".py",
   "mimetype": "text/x-python",
   "name": "python",
   "nbconvert_exporter": "python",
   "pygments_lexer": "ipython3",
   "version": "3.5.2"
  },
  "widgets": {
   "state": {
    "0023b4e1ef284317843d0e4b7f372adf": {
     "views": [
      {
       "cell_index": 0
      }
     ]
    },
    "4f6a3b6b79cd4c07b96a4ceda0662102": {
     "views": [
      {
       "cell_index": 0
      }
     ]
    },
    "8c6ae14c26004e35a5c8ce8482112c07": {
     "views": [
      {
       "cell_index": 0
      }
     ]
    }
   },
   "version": "1.2.0"
  }
 },
 "nbformat": 4,
 "nbformat_minor": 1
}
