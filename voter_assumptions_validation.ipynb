{
 "cells": [
  {
   "cell_type": "markdown",
   "metadata": {},
   "source": [
    "# Validation of using voter registration as proxy for voting eligible population\n",
    "\n",
    "First, show that for each county, total registrations are acceptable proxy for VAP (as calculated according to http://www.electproject.org/home/voter-turnout/faq/vap). NOTE: This must be per state, since VAP is not comparable across states.\n",
    "\n",
    "Then, show that total registrations are proxy for VEP for each state. VEP data from http://www.electproject.org/2016g\n",
    "\n",
    "Check that differences are uniformly or gaussian distributed...\n",
    "Want to confirm that there isn't any correlations in the errors...\n",
    "\n",
    "Extra: compare how turnout vs VEP varies at state level since 2000"
   ]
  },
  {
   "cell_type": "code",
   "execution_count": null,
   "metadata": {
    "collapsed": true
   },
   "outputs": [],
   "source": []
  }
 ],
 "metadata": {
  "kernelspec": {
   "display_name": "Python 3",
   "language": "python",
   "name": "python3"
  },
  "language_info": {
   "codemirror_mode": {
    "name": "ipython",
    "version": 3
   },
   "file_extension": ".py",
   "mimetype": "text/x-python",
   "name": "python",
   "nbconvert_exporter": "python",
   "pygments_lexer": "ipython3",
   "version": "3.5.2"
  }
 },
 "nbformat": 4,
 "nbformat_minor": 2
}
